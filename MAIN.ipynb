{
 "cells": [
  {
   "cell_type": "markdown",
   "metadata": {},
   "source": [
    "# Dataset Preparation"
   ]
  },
  {
   "cell_type": "code",
   "execution_count": 54,
   "metadata": {},
   "outputs": [],
   "source": [
    "import numpy as np\n",
    "import os\n",
    "from pathlib import Path\n",
    "import matplotlib.pyplot as plt\n",
    "from keras_preprocessing import image"
   ]
  },
  {
   "cell_type": "code",
   "execution_count": 55,
   "metadata": {},
   "outputs": [
    {
     "name": "stdout",
     "output_type": "stream",
     "text": [
      "<class 'pathlib.PosixPath'>\n",
      "images\n"
     ]
    }
   ],
   "source": [
    "path = Path(\"./images\")\n",
    "\n",
    "print(type(path))\n",
    "print(path)\n",
    "\n",
    "dirs = path.glob(\"*\") #Creating a Generator to iterate over each folder"
   ]
  },
  {
   "cell_type": "code",
   "execution_count": 56,
   "metadata": {},
   "outputs": [],
   "source": [
    "#This is to represent different categories/labels in form of numbers\n",
    "\n",
    "\n",
    "label_dict = {\n",
    "    \"cat\" : 0,\n",
    "    \"dog\" : 1,\n",
    "    \"horse\" : 2,\n",
    "    \"human\" : 3\n",
    "}\n"
   ]
  },
  {
   "cell_type": "code",
   "execution_count": 57,
   "metadata": {},
   "outputs": [],
   "source": [
    "# Load all the Images out there\n",
    "image_data = [] # X Matrix\n",
    "    \n",
    "labels = [] # Y Vector\n",
    "\n",
    "for folder in dirs:\n",
    "    \n",
    "    label = str(folder).split(\"/\")[-1][:-1]\n",
    "    # Load all the images i.e. X matrix along with Labels i.e. Y vector\n",
    "    \n",
    "    for image_path in folder.glob(\"*.jpg\"):\n",
    "        \n",
    "        img = image.load_img(image_path, target_size = (23, 23)) # Loading an image using Keras\n",
    "        \n",
    "        # Converting loaded image into a numpy arr ay\n",
    "        img_array = image.img_to_array(img)\n",
    "        \n",
    "        # Prepare X Matrix\n",
    "        image_data.append(img_array)\n",
    "        # Prepare Y Vector\n",
    "        labels.append(label_dict[label]) "
   ]
  },
  {
   "cell_type": "code",
   "execution_count": 58,
   "metadata": {},
   "outputs": [
    {
     "data": {
      "text/plain": [
       "808"
      ]
     },
     "execution_count": 58,
     "metadata": {},
     "output_type": "execute_result"
    }
   ],
   "source": [
    "len(image_data)"
   ]
  },
  {
   "cell_type": "code",
   "execution_count": 59,
   "metadata": {},
   "outputs": [
    {
     "name": "stdout",
     "output_type": "stream",
     "text": [
      "[1, 1, 1, 1, 1, 1, 1, 1, 1, 1, 1, 1, 1, 1, 1, 1, 1, 1, 1, 1, 1, 1, 1, 1, 1, 1, 1, 1, 1, 1, 1, 1, 1, 1, 1, 1, 1, 1, 1, 1, 1, 1, 1, 1, 1, 1, 1, 1, 1, 1, 1, 1, 1, 1, 1, 1, 1, 1, 1, 1, 1, 1, 1, 1, 1, 1, 1, 1, 1, 1, 1, 1, 1, 1, 1, 1, 1, 1, 1, 1, 1, 1, 1, 1, 1, 1, 1, 1, 1, 1, 1, 1, 1, 1, 1, 1, 1, 1, 1, 1, 1, 1, 1, 1, 1, 1, 1, 1, 1, 1, 1, 1, 1, 1, 1, 1, 1, 1, 1, 1, 1, 1, 1, 1, 1, 1, 1, 1, 1, 1, 1, 1, 1, 1, 1, 1, 1, 1, 1, 1, 1, 1, 1, 1, 1, 1, 1, 1, 1, 1, 1, 1, 1, 1, 1, 1, 1, 1, 1, 1, 1, 1, 1, 1, 1, 1, 1, 1, 1, 1, 1, 1, 1, 1, 1, 1, 1, 1, 1, 1, 1, 1, 1, 1, 1, 1, 1, 1, 1, 1, 1, 1, 1, 1, 1, 1, 1, 1, 1, 1, 1, 1, 3, 3, 3, 3, 3, 3, 3, 3, 3, 3, 3, 3, 3, 3, 3, 3, 3, 3, 3, 3, 3, 3, 3, 3, 3, 3, 3, 3, 3, 3, 3, 3, 3, 3, 3, 3, 3, 3, 3, 3, 3, 3, 3, 3, 3, 3, 3, 3, 3, 3, 3, 3, 3, 3, 3, 3, 3, 3, 3, 3, 3, 3, 3, 3, 3, 3, 3, 3, 3, 3, 3, 3, 3, 3, 3, 3, 3, 3, 3, 3, 3, 3, 3, 3, 3, 3, 3, 3, 3, 3, 3, 3, 3, 3, 3, 3, 3, 3, 3, 3, 3, 3, 3, 3, 3, 3, 3, 3, 3, 3, 3, 3, 3, 3, 3, 3, 3, 3, 3, 3, 3, 3, 3, 3, 3, 3, 3, 3, 3, 3, 3, 3, 3, 3, 3, 3, 3, 3, 3, 3, 3, 3, 3, 3, 3, 3, 3, 3, 3, 3, 3, 3, 3, 3, 3, 3, 3, 3, 3, 3, 3, 3, 3, 3, 3, 3, 3, 3, 3, 3, 3, 3, 3, 3, 3, 3, 3, 3, 3, 3, 3, 3, 3, 3, 3, 3, 3, 3, 3, 3, 3, 3, 3, 3, 3, 3, 3, 3, 3, 3, 3, 3, 2, 2, 2, 2, 2, 2, 2, 2, 2, 2, 2, 2, 2, 2, 2, 2, 2, 2, 2, 2, 2, 2, 2, 2, 2, 2, 2, 2, 2, 2, 2, 2, 2, 2, 2, 2, 2, 2, 2, 2, 2, 2, 2, 2, 2, 2, 2, 2, 2, 2, 2, 2, 2, 2, 2, 2, 2, 2, 2, 2, 2, 2, 2, 2, 2, 2, 2, 2, 2, 2, 2, 2, 2, 2, 2, 2, 2, 2, 2, 2, 2, 2, 2, 2, 2, 2, 2, 2, 2, 2, 2, 2, 2, 2, 2, 2, 2, 2, 2, 2, 2, 2, 2, 2, 2, 2, 2, 2, 2, 2, 2, 2, 2, 2, 2, 2, 2, 2, 2, 2, 2, 2, 2, 2, 2, 2, 2, 2, 2, 2, 2, 2, 2, 2, 2, 2, 2, 2, 2, 2, 2, 2, 2, 2, 2, 2, 2, 2, 2, 2, 2, 2, 2, 2, 2, 2, 2, 2, 2, 2, 2, 2, 2, 2, 2, 2, 2, 2, 2, 2, 2, 2, 2, 2, 2, 2, 2, 2, 2, 2, 2, 2, 2, 2, 2, 2, 2, 2, 2, 2, 2, 2, 2, 2, 2, 2, 2, 2, 2, 2, 2, 2, 0, 0, 0, 0, 0, 0, 0, 0, 0, 0, 0, 0, 0, 0, 0, 0, 0, 0, 0, 0, 0, 0, 0, 0, 0, 0, 0, 0, 0, 0, 0, 0, 0, 0, 0, 0, 0, 0, 0, 0, 0, 0, 0, 0, 0, 0, 0, 0, 0, 0, 0, 0, 0, 0, 0, 0, 0, 0, 0, 0, 0, 0, 0, 0, 0, 0, 0, 0, 0, 0, 0, 0, 0, 0, 0, 0, 0, 0, 0, 0, 0, 0, 0, 0, 0, 0, 0, 0, 0, 0, 0, 0, 0, 0, 0, 0, 0, 0, 0, 0, 0, 0, 0, 0, 0, 0, 0, 0, 0, 0, 0, 0, 0, 0, 0, 0, 0, 0, 0, 0, 0, 0, 0, 0, 0, 0, 0, 0, 0, 0, 0, 0, 0, 0, 0, 0, 0, 0, 0, 0, 0, 0, 0, 0, 0, 0, 0, 0, 0, 0, 0, 0, 0, 0, 0, 0, 0, 0, 0, 0, 0, 0, 0, 0, 0, 0, 0, 0, 0, 0, 0, 0, 0, 0, 0, 0, 0, 0, 0, 0, 0, 0, 0, 0, 0, 0, 0, 0, 0, 0, 0, 0, 0, 0, 0, 0, 0, 0, 0, 0, 0, 0]\n"
     ]
    }
   ],
   "source": [
    "print(labels)"
   ]
  },
  {
   "cell_type": "markdown",
   "metadata": {},
   "source": [
    "### Preparing a Numpy array"
   ]
  },
  {
   "cell_type": "code",
   "execution_count": 60,
   "metadata": {},
   "outputs": [
    {
     "name": "stdout",
     "output_type": "stream",
     "text": [
      "(808, 23, 23, 3) (808,)\n"
     ]
    }
   ],
   "source": [
    "x = np.array(image_data)\n",
    "y = np.array(labels)\n",
    "print(x.shape, y.shape)"
   ]
  },
  {
   "cell_type": "markdown",
   "metadata": {},
   "source": [
    "```x.shape``` signifies that there are ```808``` images each of ```32X32X3``` size"
   ]
  },
  {
   "cell_type": "markdown",
   "metadata": {},
   "source": [
    "### Shuffle the Data "
   ]
  },
  {
   "cell_type": "code",
   "execution_count": 61,
   "metadata": {},
   "outputs": [],
   "source": [
    "import random \n",
    "\n",
    "combined_data = list(zip(x, y))\n",
    "random.shuffle(combined_data)"
   ]
  },
  {
   "cell_type": "code",
   "execution_count": 62,
   "metadata": {},
   "outputs": [],
   "source": [
    "x[:], y[:] = zip(*combined_data)"
   ]
  },
  {
   "cell_type": "markdown",
   "metadata": {},
   "source": [
    "### Have a look at Dataset"
   ]
  },
  {
   "cell_type": "code",
   "execution_count": 63,
   "metadata": {},
   "outputs": [],
   "source": [
    "x = x.astype(\"uint8\")"
   ]
  },
  {
   "cell_type": "code",
   "execution_count": 64,
   "metadata": {
    "scrolled": true
   },
   "outputs": [
    {
     "data": {
      "text/plain": [
       "(23, 23, 3)"
      ]
     },
     "execution_count": 64,
     "metadata": {},
     "output_type": "execute_result"
    }
   ],
   "source": [
    "x[0].shape"
   ]
  },
  {
   "cell_type": "code",
   "execution_count": 65,
   "metadata": {},
   "outputs": [
    {
     "ename": "ValueError",
     "evalue": "cannot reshape array of size 1587 into shape (200,200,newaxis)",
     "output_type": "error",
     "traceback": [
      "\u001b[0;31m---------------------------------------------------------------------------\u001b[0m",
      "\u001b[0;31mValueError\u001b[0m                                Traceback (most recent call last)",
      "\u001b[0;32m<ipython-input-65-4dd4f2b6dbab>\u001b[0m in \u001b[0;36m<module>\u001b[0;34m\u001b[0m\n\u001b[0;32m----> 1\u001b[0;31m \u001b[0mplt\u001b[0m\u001b[0;34m.\u001b[0m\u001b[0mimshow\u001b[0m\u001b[0;34m(\u001b[0m\u001b[0mx\u001b[0m\u001b[0;34m[\u001b[0m\u001b[0;36m0\u001b[0m\u001b[0;34m]\u001b[0m\u001b[0;34m.\u001b[0m\u001b[0mreshape\u001b[0m\u001b[0;34m(\u001b[0m\u001b[0;34m(\u001b[0m\u001b[0;36m200\u001b[0m\u001b[0;34m,\u001b[0m \u001b[0;36m200\u001b[0m\u001b[0;34m,\u001b[0m \u001b[0;34m-\u001b[0m\u001b[0;36m1\u001b[0m\u001b[0;34m)\u001b[0m\u001b[0;34m)\u001b[0m\u001b[0;34m)\u001b[0m\u001b[0;34m\u001b[0m\u001b[0;34m\u001b[0m\u001b[0m\n\u001b[0m\u001b[1;32m      2\u001b[0m \u001b[0mplt\u001b[0m\u001b[0;34m.\u001b[0m\u001b[0maxis\u001b[0m\u001b[0;34m(\u001b[0m\u001b[0;34m\"off\"\u001b[0m\u001b[0;34m)\u001b[0m\u001b[0;34m;\u001b[0m\u001b[0;34m\u001b[0m\u001b[0;34m\u001b[0m\u001b[0m\n",
      "\u001b[0;31mValueError\u001b[0m: cannot reshape array of size 1587 into shape (200,200,newaxis)"
     ]
    }
   ],
   "source": [
    "plt.imshow(x[0].reshape((200, 200, -1)))\n",
    "plt.axis(\"off\");"
   ]
  },
  {
   "cell_type": "code",
   "execution_count": 66,
   "metadata": {
    "scrolled": false
   },
   "outputs": [
    {
     "data": {
      "image/png": "[encoded data removed]",
      "text/plain": [
       "<Figure size 432x288 with 1 Axes>"
      ]
     },
     "metadata": {
      "needs_background": "light"
     },
     "output_type": "display_data"
    },
    {
     "data": {
      "image/png": "[encoded data removed]",
      "text/plain": [
       "<Figure size 432x288 with 1 Axes>"
      ]
     },
     "metadata": {
      "needs_background": "light"
     },
     "output_type": "display_data"
    },
    {
     "data": {
      "image/png": "[encoded data removed]",
      "text/plain": [
       "<Figure size 432x288 with 1 Axes>"
      ]
     },
     "metadata": {
      "needs_background": "light"
     },
     "output_type": "display_data"
    },
    {
     "data": {
      "image/png": "[encoded data removed]",
      "text/plain": [
       "<Figure size 432x288 with 1 Axes>"
      ]
     },
     "metadata": {
      "needs_background": "light"
     },
     "output_type": "display_data"
    },
    {
     "data": {
      "image/png": "[encoded data removed]",
      "text/plain": [
       "<Figure size 432x288 with 1 Axes>"
      ]
     },
     "metadata": {
      "needs_background": "light"
     },
     "output_type": "display_data"
    },
    {
     "data": {
      "image/png": "[encoded data removed]",
      "text/plain": [
       "<Figure size 432x288 with 1 Axes>"
      ]
     },
     "metadata": {
      "needs_background": "light"
     },
     "output_type": "display_data"
    },
    {
     "data": {
      "image/png": "[encoded data removed]",
      "text/plain": [
       "<Figure size 432x288 with 1 Axes>"
      ]
     },
     "metadata": {
      "needs_background": "light"
     },
     "output_type": "display_data"
    },
    {
     "data": {
      "image/png": "[encoded data removed]",
      "text/plain": [
       "<Figure size 432x288 with 1 Axes>"
      ]
     },
     "metadata": {
      "needs_background": "light"
     },
     "output_type": "display_data"
    },
    {
     "data": {
      "image/png": "[encoded data removed]",
      "text/plain": [
       "<Figure size 432x288 with 1 Axes>"
      ]
     },
     "metadata": {
      "needs_background": "light"
     },
     "output_type": "display_data"
    }
   ],
   "source": [
    "# will be viusalizing only 9 images \n",
    "for i in range(9):\n",
    "    plt.imshow(x[i])\n",
    "    plt.axis(\"off\")\n",
    "    plt.title(y[i])\n",
    "    plt.show()    "
   ]
  },
  {
   "cell_type": "code",
   "execution_count": 67,
   "metadata": {},
   "outputs": [],
   "source": [
    "class SVM:\n",
    "    \n",
    "    def __init__(self, C = 1.0):\n",
    "        self.C = C\n",
    "        self.W = 0\n",
    "        self.b = 0\n",
    "        \n",
    "        \n",
    "        \n",
    "    \n",
    "    def HingeLoss(self, W, B, X, Y):\n",
    "                \n",
    "        loss = 0.0\n",
    "        loss += 0.5 * np.dot(W, W.T) #First Term\n",
    "        \n",
    "        m = X.shape[0]\n",
    "        \n",
    "        for i in range(m):\n",
    "            \n",
    "            ti = Y[i] * (np.dot(W, X[i].T) + B)\n",
    "            \n",
    "            loss += self.C * max(0, (1 - ti)) # 1 - ti is for outliers\n",
    "        \n",
    "        return loss\n",
    "    \n",
    "    \n",
    "    \n",
    "    \n",
    "    def fit(self, X, Y, batch_size = 100, Lr = 0.001, MaxItr = 20):\n",
    "        \n",
    "        #Initialization\n",
    "        features = X.shape[1]\n",
    "        samples  = X.shape[0]\n",
    "        c = self.C        \n",
    "        W = np.zeros((1, features))\n",
    "        bias = 0     \n",
    "        losses = []\n",
    "        \n",
    "        \n",
    "        for i in range(MaxItr):\n",
    "            \n",
    "            losses.append(*self.HingeLoss(W, bias, X, Y)[0]) # Loss gets recorded   \n",
    "            \n",
    "            random_ids = np.arange(samples)\n",
    "            np.random.shuffle(random_ids)\n",
    "            \n",
    "            for batch_start in range(0, samples, batch_size):\n",
    "                \n",
    "               \n",
    "                Gradient_W = 0.0 # Used to compute gradient term only\n",
    "                Gradient_B = 0.0 # That is why it gets initialized by 0 everytime\n",
    "                \n",
    "                for j in range(batch_start, batch_start + batch_size):\n",
    "                    \n",
    "                    if j < samples:\n",
    "                \n",
    "                        # Dealing with Random Data\n",
    "                        i = random_ids[j]\n",
    "\n",
    "                        ti = Y[i] * (np.dot(W, X[i]) + bias)\n",
    "                        \n",
    "                        if ti > 1:\n",
    "                            \"All Good\"\n",
    "                            Gradient_W += 0\n",
    "                            Gradient_B += 0\n",
    "                       \n",
    "                        else:\n",
    "                            \n",
    "                            Gradient_W += c*Y[i]*X[i]\n",
    "                            Gradient_B += c*Y[i]\n",
    "\n",
    "                # Gradient is computed. Now it is needed to update the W and B\n",
    "                W = W - Lr * W + Lr * Gradient_W\n",
    "                bias = bias + Lr * Gradient_B\n",
    "            \n",
    "        self.W = W \n",
    "        self.b = bias\n",
    "        \n",
    "        return W, bias, list(losses)"
   ]
  },
  {
   "cell_type": "markdown",
   "metadata": {},
   "source": [
    "## We need to convert Data for One-to-One Classification"
   ]
  },
  {
   "cell_type": "code",
   "execution_count": 68,
   "metadata": {},
   "outputs": [
    {
     "data": {
      "text/plain": [
       "(808, 23, 23, 3)"
      ]
     },
     "execution_count": 68,
     "metadata": {},
     "output_type": "execute_result"
    }
   ],
   "source": [
    "x.shape"
   ]
  },
  {
   "cell_type": "code",
   "execution_count": 69,
   "metadata": {},
   "outputs": [
    {
     "name": "stdout",
     "output_type": "stream",
     "text": [
      "(808, 1587)\n"
     ]
    }
   ],
   "source": [
    "# We will flatten each image\n",
    "\n",
    "x = x.reshape((808, -1))\n",
    "print(x.shape)"
   ]
  },
  {
   "cell_type": "code",
   "execution_count": 70,
   "metadata": {},
   "outputs": [
    {
     "data": {
      "text/plain": [
       "4"
      ]
     },
     "execution_count": 70,
     "metadata": {},
     "output_type": "execute_result"
    }
   ],
   "source": [
    "classes = len(np.unique(labels))\n",
    "classes"
   ]
  },
  {
   "cell_type": "code",
   "execution_count": 71,
   "metadata": {},
   "outputs": [],
   "source": [
    "def ClassWiseData(x, y):\n",
    "    \n",
    "    data = {} # It will contain key as classes and values as numpy array\n",
    "    \n",
    "    for i in range(classes):        \n",
    "        data[i] = [] # Creating an empty list to further store images\n",
    "    \n",
    "    \n",
    "    for i in range(x.shape[0]): # Iterating over all the data points\n",
    "        data[y[i]].append(x[i])\n",
    "        \n",
    "        \n",
    "    for i in data.keys():\n",
    "        data[i] = np.array(data[i])\n",
    "        \n",
    "    return data"
   ]
  },
  {
   "cell_type": "code",
   "execution_count": 72,
   "metadata": {},
   "outputs": [],
   "source": [
    "data = ClassWiseData(x, y)"
   ]
  },
  {
   "cell_type": "code",
   "execution_count": 73,
   "metadata": {},
   "outputs": [
    {
     "name": "stdout",
     "output_type": "stream",
     "text": [
      "(202, 1587)\n",
      "(202, 1587)\n",
      "(202, 1587)\n",
      "(202, 1587)\n"
     ]
    }
   ],
   "source": [
    "print(data[0].shape)\n",
    "print(data[1].shape)\n",
    "print(data[2].shape)\n",
    "print(data[3].shape)"
   ]
  },
  {
   "cell_type": "markdown",
   "metadata": {},
   "source": [
    "##  Creating Data Pairs"
   ]
  },
  {
   "cell_type": "code",
   "execution_count": 74,
   "metadata": {},
   "outputs": [],
   "source": [
    "def CreateDataPairs(d1, d2):\n",
    "    \n",
    "    l1 = d1.shape[0]\n",
    "    l2 = d2.shape[0]\n",
    "    \n",
    "    samples = l1 + l2\n",
    "    features = d1.shape[1]\n",
    "    \n",
    "    data_pair = np.zeros((samples, features))\n",
    "    data_labels = np.zeros((samples, ))\n",
    "    \n",
    "    data_pair[:l1, :] = d1\n",
    "    data_pair[l1:, :] = d2\n",
    "    \n",
    "    data_labels[:l1] = -1\n",
    "    data_labels[:l2] = 1\n",
    "    \n",
    "    return data_pair, data_labels\n",
    "    \n",
    "    "
   ]
  },
  {
   "cell_type": "code",
   "execution_count": 75,
   "metadata": {},
   "outputs": [],
   "source": [
    "mySVM = SVM()"
   ]
  },
  {
   "cell_type": "markdown",
   "metadata": {},
   "source": [
    "## Training NC2 SVM's Part!"
   ]
  },
  {
   "cell_type": "code",
   "execution_count": 76,
   "metadata": {},
   "outputs": [],
   "source": [
    "def trainSVM(x, y):\n",
    "    \n",
    "    svm_classifier = {}\n",
    "    \n",
    "    for i in range(classes):\n",
    "        \n",
    "        svm_classifier[i] = {}\n",
    "        \n",
    "        for j in range(i + 1, classes):\n",
    "            xpair, ypair = CreateDataPairs(data[i], data[j])\n",
    "            weight, bias, loss = mySVM.fit(xpair, ypair, Lr = 0.0001, MaxItr = 1000 )\n",
    "        \n",
    "            svm_classifier[i][j] = (weight, bias)\n",
    "        plt.plot(loss)\n",
    "        plt.show()\n",
    "            \n",
    "    return svm_classifier"
   ]
  },
  {
   "cell_type": "code",
   "execution_count": 77,
   "metadata": {},
   "outputs": [
    {
     "data": {
      "image/png": "[encoded data removed]",
      "text/plain": [
       "<Figure size 432x288 with 1 Axes>"
      ]
     },
     "metadata": {
      "needs_background": "light"
     },
     "output_type": "display_data"
    },
    {
     "data": {
      "image/png": "[encoded data removed]",
      "text/plain": [
       "<Figure size 432x288 with 1 Axes>"
      ]
     },
     "metadata": {
      "needs_background": "light"
     },
     "output_type": "display_data"
    },
    {
     "data": {
      "image/png": "[encoded data removed]",
      "text/plain": [
       "<Figure size 432x288 with 1 Axes>"
      ]
     },
     "metadata": {
      "needs_background": "light"
     },
     "output_type": "display_data"
    },
    {
     "data": {
      "image/png": "[encoded data removed]",
      "text/plain": [
       "<Figure size 432x288 with 1 Axes>"
      ]
     },
     "metadata": {
      "needs_background": "light"
     },
     "output_type": "display_data"
    }
   ],
   "source": [
    "svm_classifier = trainSVM(x, y)"
   ]
  },
  {
   "cell_type": "code",
   "execution_count": 34,
   "metadata": {},
   "outputs": [
    {
     "data": {
      "text/plain": [
       "{0: {1: (array([[5.66151723, 4.88895697, 4.40712571, ..., 5.23765064, 4.42795676,\n",
       "           3.77132583]]),\n",
       "   0.049),\n",
       "  2: (array([[5.01122618, 4.53482911, 4.23776022, ..., 4.97046977, 4.52758353,\n",
       "           4.13632206]]),\n",
       "   0.047),\n",
       "  3: (array([[5.30648367, 4.40078583, 3.96423947, ..., 6.06183568, 5.41879021,\n",
       "           5.10904154]]),\n",
       "   0.053)},\n",
       " 1: {2: (array([[6.4313604 , 6.36977294, 6.34350771, ..., 5.6732913 , 5.5881557 ,\n",
       "           4.87808859]]),\n",
       "   0.049),\n",
       "  3: (array([[6.34079061, 6.12342313, 5.99119124, ..., 5.9667374 , 5.6751027 ,\n",
       "           4.81378405]]),\n",
       "   0.052000000000000005)},\n",
       " 2: {3: (array([[6.23482396, 6.46577692, 5.85895936, ..., 5.81820296, 5.43237567,\n",
       "           3.58112928]]),\n",
       "   0.044)},\n",
       " 3: {}}"
      ]
     },
     "execution_count": 34,
     "metadata": {},
     "output_type": "execute_result"
    }
   ],
   "source": [
    "svm_classifier"
   ]
  },
  {
   "cell_type": "code",
   "execution_count": 35,
   "metadata": {},
   "outputs": [],
   "source": [
    "def binaryPredict(x, weight, bias):\n",
    "    z = np.dot(x, weight.T) + bias\n",
    "    \n",
    "    if z >= 0:\n",
    "        return 1\n",
    "    else:\n",
    "        return -1"
   ]
  },
  {
   "cell_type": "code",
   "execution_count": 36,
   "metadata": {},
   "outputs": [],
   "source": [
    "def predict(x):\n",
    "    \n",
    "    count = np.zeros((classes, ))\n",
    "    \n",
    "    for i in range(classes):\n",
    "        \n",
    "        for j in range(i+1, classes):\n",
    "            \n",
    "            weight, bias = svm_classifier[i][j]\n",
    "            \n",
    "            # Take Majority Prediction : What each classifier predicted the most\n",
    "            \n",
    "            z = binaryPredict(x, weight, bias)\n",
    "            \n",
    "            if z == 1:\n",
    "                count[j] += 1\n",
    "            \n",
    "            else:\n",
    "                count[i] += 1\n",
    "    final_prediction = np.argmax(count)\n",
    "    \n",
    "    return final_prediction"
   ]
  },
  {
   "cell_type": "code",
   "execution_count": 37,
   "metadata": {},
   "outputs": [],
   "source": [
    "def accuracy(x, y):\n",
    "    \n",
    "    count = 0\n",
    "    \n",
    "    for i in range(x.shape[0]):\n",
    "        prediction = predict(x[i])\n",
    "        \n",
    "        if prediction == y[i]:\n",
    "            count += 1\n",
    "        \n",
    "    return count/x.shape[0]"
   ]
  },
  {
   "cell_type": "code",
   "execution_count": 38,
   "metadata": {},
   "outputs": [
    {
     "data": {
      "text/plain": [
       "0.25"
      ]
     },
     "execution_count": 38,
     "metadata": {},
     "output_type": "execute_result"
    }
   ],
   "source": [
    "accuracy(x, y)"
   ]
  },
  {
   "cell_type": "markdown",
   "metadata": {},
   "source": [
    "# DEBUG!!!"
   ]
  },
  {
   "cell_type": "code",
   "execution_count": 41,
   "metadata": {},
   "outputs": [],
   "source": [
    "# Check only for 2 classes and see whether the loss is increasing or decreasing\n",
    "\n",
    "xp, yp = CreateDataPairs(x[0], x[1]) # Feeding cat and dog data"
   ]
  },
  {
   "cell_type": "code",
   "execution_count": 42,
   "metadata": {},
   "outputs": [],
   "source": [
    "weight, bias, loss = mySVM.fit(xp, yp)"
   ]
  },
  {
   "cell_type": "code",
   "execution_count": 43,
   "metadata": {},
   "outputs": [
    {
     "data": {
      "image/png": "[encoded data removed]",
      "text/plain": [
       "<Figure size 432x288 with 1 Axes>"
      ]
     },
     "metadata": {
      "needs_background": "light"
     },
     "output_type": "display_data"
    }
   ],
   "source": [
    "plt.plot(loss);"
   ]
  },
  {
   "cell_type": "code",
   "execution_count": 44,
   "metadata": {},
   "outputs": [
    {
     "data": {
      "image/png": "[encoded data removed]",
      "text/plain": [
       "<Figure size 432x288 with 1 Axes>"
      ]
     },
     "metadata": {
      "needs_background": "light"
     },
     "output_type": "display_data"
    }
   ],
   "source": [
    "# Adjusting Learning Rate -> MaxItr\n",
    "\n",
    "weight, bias, loss = mySVM.fit(xp, yp, Lr = 0.00001, MaxItr = 1000)\n",
    "plt.plot(loss);"
   ]
  },
  {
   "cell_type": "code",
   "execution_count": 49,
   "metadata": {},
   "outputs": [],
   "source": [
    "# Now Lets check accuracy\n",
    "\n",
    "def accuracy(x, y):\n",
    "    \n",
    "    count = 0\n",
    "    \n",
    "    for i in range(x.shape[0]):\n",
    "        prediction = predict(x[i])\n",
    "        \n",
    "        if prediction == y[i]:\n",
    "            count += 1\n",
    "        \n",
    "    return count/x.shape[0]"
   ]
  },
  {
   "cell_type": "code",
   "execution_count": 50,
   "metadata": {},
   "outputs": [
    {
     "data": {
      "text/plain": [
       "0.25"
      ]
     },
     "execution_count": 50,
     "metadata": {},
     "output_type": "execute_result"
    }
   ],
   "source": [
    "accuracy(x, y)"
   ]
  },
  {
   "cell_type": "code",
   "execution_count": null,
   "metadata": {},
   "outputs": [],
   "source": []
  }
 ],
 "metadata": {
  "kernelspec": {
   "display_name": "Python 3",
   "language": "python",
   "name": "python3"
  },
  "language_info": {
   "codemirror_mode": {
    "name": "ipython",
    "version": 3
   },
   "file_extension": ".py",
   "mimetype": "text/x-python",
   "name": "python",
   "nbconvert_exporter": "python",
   "pygments_lexer": "ipython3",
   "version": "3.8.3"
  }
 },
 "nbformat": 4,
 "nbformat_minor": 4
}
