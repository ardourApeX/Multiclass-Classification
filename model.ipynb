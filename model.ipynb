{
 "cells": [
  {
   "cell_type": "code",
   "execution_count": 1,
   "metadata": {
    "colab": {
     "base_uri": "https://localhost:8080/"
    },
    "id": "_jwu8e7TcvIA",
    "outputId": "fea28a66-1437-4c60-f53c-a951c3e20046"
   },
   "outputs": [
    {
     "name": "stdout",
     "output_type": "stream",
     "text": [
      "['cats', 'dogs', 'horses', 'humans']\n"
     ]
    }
   ],
   "source": [
    "import os, shutil\n",
    "parent_dir = \"./dataset/\"\n",
    "folders = os.listdir(parent_dir + \"/multiclass\") # Path to Training Images\n",
    "print(folders)"
   ]
  },
  {
   "cell_type": "markdown",
   "metadata": {
    "id": "SUO-QLR4dFXq"
   },
   "source": [
    "## Seperating Training data from Testing data"
   ]
  },
  {
   "cell_type": "code",
   "execution_count": 2,
   "metadata": {
    "id": "O9Gr7ymMcvB0"
   },
   "outputs": [],
   "source": [
    "classes = [\"dogs\", \"cats\", \"horses\", \"humans\"] # Labels\n",
    "\n",
    "# First create a validation folder\n",
    "if not os.path.isdir(parent_dir + \"/val_images\"):\n",
    "    os.mkdir(parent_dir + \"/val_images\")\n",
    "\n",
    "# Now create a seperate folder for each label\n",
    "for label in classes:\n",
    "    os.mkdir(parent_dir + \"/val_images/\" + label)\n"
   ]
  },
  {
   "cell_type": "code",
   "execution_count": 3,
   "metadata": {
    "id": "TmAz8QeFcu-a"
   },
   "outputs": [],
   "source": [
    "for each_class in classes: # Iterate over each class\n",
    "    image_path = os.path.join(parent_dir + \"val_images\", each_class)# creating a seperate folder for each class in validation folder\n",
    " \n",
    "  if not image_path:\n",
    "    os.mkdir(image_path)\n",
    "\n",
    "SPLIT = 0.9 # spliting data into 90:10 \n",
    "\n",
    "# Load all images from training data and make a split\n",
    "for image_folder in os.listdir(parent_dir + \"/multiclass\"):\n",
    "    Path = parent_dir + \"/multiclass/\" + image_folder\n",
    "    images = os.listdir(Path)# Load all the images\n",
    "    split_size =  int(SPLIT * len(images))\n",
    "    images_to_move = images[split_size :] # Train-Test split\n",
    "  #print(len(images_to_move))\n",
    "    for validation_image in images_to_move:\n",
    "        src = os.path.join(Path, validation_image) \n",
    "        dest = os.path.join(parent_dir + \"/val_images/\" + image_folder, validation_image)\n",
    "        shutil.move(src, dest) # Moving selected images"
   ]
  },
  {
   "cell_type": "markdown",
   "metadata": {
    "id": "V1XZf1xPsA2B"
   },
   "source": [
    "### ```Now how many images left in training dataset```"
   ]
  },
  {
   "cell_type": "code",
   "execution_count": 28,
   "metadata": {
    "colab": {
     "base_uri": "https://localhost:8080/"
    },
    "id": "AJs4isPWnmXM",
    "outputId": "fe45c435-b03b-478f-82d4-8f7fed72371b"
   },
   "outputs": [
    {
     "name": "stdout",
     "output_type": "stream",
     "text": [
      "cats 181\n",
      "dogs 181\n",
      "horses 181\n",
      "humans 181\n"
     ]
    }
   ],
   "source": [
    "for folder in folders:\n",
    "    Path = parent_dir + \"/multiclass/\" + folder\n",
    "    print(folder + \" \" + str(len(os.listdir(Path))))"
   ]
  },
  {
   "cell_type": "markdown",
   "metadata": {
    "id": "ycogzgZJsOJo"
   },
   "source": [
    "### ```And what about validation dataset```"
   ]
  },
  {
   "cell_type": "code",
   "execution_count": 29,
   "metadata": {
    "colab": {
     "base_uri": "https://localhost:8080/"
    },
    "id": "NVJGH6Q5nmPn",
    "outputId": "caf6645f-454c-4d8e-b19e-c49071e5afdb"
   },
   "outputs": [
    {
     "name": "stdout",
     "output_type": "stream",
     "text": [
      "cats 21\n",
      "dogs 21\n",
      "horses 21\n",
      "humans 21\n"
     ]
    }
   ],
   "source": [
    "validation_folder = os.listdir(parent_dir + \"/val_images/\")\n",
    "for folder in validation_folder:\n",
    "    Path = parent_dir + \"/val_images/\" + folder\n",
    "    print(folder + \" \" + str(len(os.listdir(Path))))"
   ]
  },
  {
   "cell_type": "markdown",
   "metadata": {
    "id": "Xl86lqZ8vY0X"
   },
   "source": [
    "### ``` Train data generator```"
   ]
  },
  {
   "cell_type": "code",
   "execution_count": 30,
   "metadata": {
    "id": "ZnCcf81Ku5HX"
   },
   "outputs": [],
   "source": [
    "from keras.preprocessing.image import ImageDataGenerator"
   ]
  },
  {
   "cell_type": "markdown",
   "metadata": {},
   "source": [
    "### ```Training Data Generator```"
   ]
  },
  {
   "cell_type": "code",
   "execution_count": 31,
   "metadata": {
    "id": "V_zszdj9u5Ed"
   },
   "outputs": [
    {
     "name": "stdout",
     "output_type": "stream",
     "text": [
      "Found 724 images belonging to 4 classes.\n"
     ]
    }
   ],
   "source": [
    "train_gen = ImageDataGenerator(rescale = 1.0/255)\n",
    "\n",
    "train_generator = train_gen.flow_from_directory(parent_dir + \"/multiclass/\",\n",
    "                                                target_size = (300, 300),\n",
    "                                                batch_size = 32,\n",
    "                                                class_mode = \"categorical\"\n",
    "                                                )"
   ]
  },
  {
   "cell_type": "markdown",
   "metadata": {
    "id": "BJdMhOEou4-b"
   },
   "source": [
    "### ``` Testing Data Generator```"
   ]
  },
  {
   "cell_type": "code",
   "execution_count": 32,
   "metadata": {
    "id": "CbGHOMXtBM7N"
   },
   "outputs": [
    {
     "name": "stdout",
     "output_type": "stream",
     "text": [
      "Found 84 images belonging to 4 classes.\n"
     ]
    }
   ],
   "source": [
    "valid_generator = train_gen.flow_from_directory(parent_dir + \"/val_images/\",\n",
    "                                               target_size = (300, 300),\n",
    "                                               batch_size = 32,\n",
    "                                               class_mode = \"categorical\"\n",
    "                                               )"
   ]
  },
  {
   "cell_type": "markdown",
   "metadata": {},
   "source": [
    "### ```Lets have a look how train_gen works```"
   ]
  },
  {
   "cell_type": "code",
   "execution_count": 34,
   "metadata": {
    "scrolled": false
   },
   "outputs": [
    {
     "name": "stdout",
     "output_type": "stream",
     "text": [
      "(32, 300, 300, 3)\n",
      "(32, 4)\n"
     ]
    }
   ],
   "source": [
    "for x, y in train_generator:\n",
    "    print(x.shape)\n",
    "    print(y.shape)\n",
    "    break"
   ]
  },
  {
   "cell_type": "markdown",
   "metadata": {},
   "source": [
    "### ``` Building a CNN Model```"
   ]
  },
  {
   "cell_type": "code",
   "execution_count": 35,
   "metadata": {},
   "outputs": [],
   "source": [
    "from keras.layers import *\n",
    "from keras.models import Sequential"
   ]
  },
  {
   "cell_type": "code",
   "execution_count": 36,
   "metadata": {},
   "outputs": [],
   "source": [
    "from keras import optimizers \n",
    "\n",
    "adam = optimizers.Adam(learning_rate = 1e-4)"
   ]
  },
  {
   "cell_type": "code",
   "execution_count": 61,
   "metadata": {},
   "outputs": [
    {
     "name": "stdout",
     "output_type": "stream",
     "text": [
      "Model: \"sequential_9\"\n",
      "_________________________________________________________________\n",
      "Layer (type)                 Output Shape              Param #   \n",
      "=================================================================\n",
      "conv2d_26 (Conv2D)           (None, 298, 298, 32)      896       \n",
      "_________________________________________________________________\n",
      "max_pooling2d_24 (MaxPooling (None, 149, 149, 32)      0         \n",
      "_________________________________________________________________\n",
      "conv2d_27 (Conv2D)           (None, 147, 147, 64)      18496     \n",
      "_________________________________________________________________\n",
      "max_pooling2d_25 (MaxPooling (None, 73, 73, 64)        0         \n",
      "_________________________________________________________________\n",
      "conv2d_28 (Conv2D)           (None, 71, 71, 128)       73856     \n",
      "_________________________________________________________________\n",
      "max_pooling2d_26 (MaxPooling (None, 35, 35, 128)       0         \n",
      "_________________________________________________________________\n",
      "conv2d_29 (Conv2D)           (None, 33, 33, 128)       147584    \n",
      "_________________________________________________________________\n",
      "max_pooling2d_27 (MaxPooling (None, 16, 16, 128)       0         \n",
      "_________________________________________________________________\n",
      "flatten_7 (Flatten)          (None, 32768)             0         \n",
      "_________________________________________________________________\n",
      "dense_12 (Dense)             (None, 64)                2097216   \n",
      "_________________________________________________________________\n",
      "dense_13 (Dense)             (None, 4)                 260       \n",
      "=================================================================\n",
      "Total params: 2,338,308\n",
      "Trainable params: 2,338,308\n",
      "Non-trainable params: 0\n",
      "_________________________________________________________________\n"
     ]
    }
   ],
   "source": [
    "model = Sequential()\n",
    "model.add(Conv2D(32, (3, 3), activation = \"relu\", input_shape = (300, 300, 3)))\n",
    "model.add(MaxPool2D(2, 2))\n",
    "model.add(Conv2D(64, (3, 3), activation = \"relu\"))\n",
    "model.add(MaxPool2D(2, 2))\n",
    "model.add(Conv2D(128, (3, 3), activation = \"relu\"))\n",
    "model.add(MaxPool2D(2, 2))\n",
    "model.add(Conv2D(128, (3, 3), activation = \"relu\"))\n",
    "model.add(MaxPool2D(2, 2))\n",
    "model.add(Flatten())\n",
    "model.add(Dense(64, activation = \"relu\"))\n",
    "model.add(Dense(4, activation = \"softmax\"))\n",
    "model.summary()"
   ]
  },
  {
   "cell_type": "code",
   "execution_count": 62,
   "metadata": {},
   "outputs": [],
   "source": [
    "model.compile(optimizer = adam, loss = \"categorical_crossentropy\", metrics = [\"accuracy\"])"
   ]
  },
  {
   "cell_type": "code",
   "execution_count": 63,
   "metadata": {},
   "outputs": [],
   "source": [
    "import warnings\n",
    "warnings.filterwarnings(\"ignore\")"
   ]
  },
  {
   "cell_type": "code",
   "execution_count": 64,
   "metadata": {
    "scrolled": false
   },
   "outputs": [
    {
     "name": "stdout",
     "output_type": "stream",
     "text": [
      "Epoch 1/80\n",
      " 2/23 [=>............................] - ETA: 2s - loss: 1.3945 - accuracy: 0.2188WARNING:tensorflow:Callbacks method `on_train_batch_end` is slow compared to the batch time (batch time: 0.0568s vs `on_train_batch_end` time: 0.1077s). Check your callbacks.\n"
     ]
    },
    {
     "name": "stderr",
     "output_type": "stream",
     "text": [
      "WARNING:tensorflow:Callbacks method `on_train_batch_end` is slow compared to the batch time (batch time: 0.0568s vs `on_train_batch_end` time: 0.1077s). Check your callbacks.\n"
     ]
    },
    {
     "name": "stdout",
     "output_type": "stream",
     "text": [
      "23/23 [==============================] - 4s 181ms/step - loss: 1.3507 - accuracy: 0.3177 - val_loss: 1.2978 - val_accuracy: 0.2976\n",
      "Epoch 2/80\n",
      "23/23 [==============================] - 4s 171ms/step - loss: 1.1414 - accuracy: 0.5180 - val_loss: 1.1496 - val_accuracy: 0.5476\n",
      "Epoch 3/80\n",
      "23/23 [==============================] - 4s 172ms/step - loss: 0.9171 - accuracy: 0.6298 - val_loss: 1.2327 - val_accuracy: 0.4762\n",
      "Epoch 4/80\n",
      "23/23 [==============================] - 4s 172ms/step - loss: 0.8032 - accuracy: 0.6837 - val_loss: 1.1470 - val_accuracy: 0.5238\n",
      "Epoch 5/80\n",
      "23/23 [==============================] - 4s 171ms/step - loss: 0.6736 - accuracy: 0.7251 - val_loss: 1.1462 - val_accuracy: 0.5357\n",
      "Epoch 6/80\n",
      "23/23 [==============================] - 4s 172ms/step - loss: 0.5512 - accuracy: 0.8052 - val_loss: 1.0847 - val_accuracy: 0.5595\n",
      "Epoch 7/80\n",
      "23/23 [==============================] - 4s 173ms/step - loss: 0.4756 - accuracy: 0.8177 - val_loss: 1.1168 - val_accuracy: 0.5714\n",
      "Epoch 8/80\n",
      "23/23 [==============================] - 4s 174ms/step - loss: 0.4440 - accuracy: 0.8453 - val_loss: 1.1479 - val_accuracy: 0.5238\n",
      "Epoch 9/80\n",
      "23/23 [==============================] - 4s 175ms/step - loss: 0.3602 - accuracy: 0.8702 - val_loss: 1.3292 - val_accuracy: 0.6071\n",
      "Epoch 10/80\n",
      "23/23 [==============================] - 4s 176ms/step - loss: 0.2894 - accuracy: 0.9116 - val_loss: 1.2071 - val_accuracy: 0.6071\n",
      "Epoch 11/80\n",
      "23/23 [==============================] - 4s 176ms/step - loss: 0.2281 - accuracy: 0.9296 - val_loss: 1.2279 - val_accuracy: 0.6548\n",
      "Epoch 12/80\n",
      "23/23 [==============================] - 4s 178ms/step - loss: 0.1980 - accuracy: 0.9365 - val_loss: 1.2014 - val_accuracy: 0.6429\n",
      "Epoch 13/80\n",
      "23/23 [==============================] - 4s 178ms/step - loss: 0.1438 - accuracy: 0.9641 - val_loss: 1.6375 - val_accuracy: 0.5833\n",
      "Epoch 14/80\n",
      "23/23 [==============================] - 4s 178ms/step - loss: 0.1228 - accuracy: 0.9669 - val_loss: 1.3781 - val_accuracy: 0.6190\n",
      "Epoch 15/80\n",
      "23/23 [==============================] - 4s 182ms/step - loss: 0.0878 - accuracy: 0.9876 - val_loss: 1.5492 - val_accuracy: 0.5952\n",
      "Epoch 16/80\n",
      "23/23 [==============================] - 4s 181ms/step - loss: 0.0725 - accuracy: 0.9876 - val_loss: 1.6487 - val_accuracy: 0.5833\n",
      "Epoch 17/80\n",
      "23/23 [==============================] - 4s 181ms/step - loss: 0.0581 - accuracy: 0.9917 - val_loss: 1.7578 - val_accuracy: 0.6071\n",
      "Epoch 18/80\n",
      "23/23 [==============================] - 4s 181ms/step - loss: 0.0426 - accuracy: 0.9945 - val_loss: 1.7987 - val_accuracy: 0.6071\n",
      "Epoch 19/80\n",
      "23/23 [==============================] - 4s 183ms/step - loss: 0.0285 - accuracy: 0.9959 - val_loss: 1.8029 - val_accuracy: 0.5952\n",
      "Epoch 20/80\n",
      "23/23 [==============================] - 4s 183ms/step - loss: 0.0200 - accuracy: 0.9986 - val_loss: 2.0522 - val_accuracy: 0.5833\n",
      "Epoch 21/80\n",
      "23/23 [==============================] - 4s 185ms/step - loss: 0.0166 - accuracy: 0.9986 - val_loss: 1.9404 - val_accuracy: 0.5595\n",
      "Epoch 22/80\n",
      "23/23 [==============================] - 4s 186ms/step - loss: 0.0131 - accuracy: 0.9986 - val_loss: 2.0541 - val_accuracy: 0.5714\n",
      "Epoch 23/80\n",
      "23/23 [==============================] - 4s 186ms/step - loss: 0.0110 - accuracy: 1.0000 - val_loss: 2.3093 - val_accuracy: 0.5714\n",
      "Epoch 24/80\n",
      "23/23 [==============================] - 4s 183ms/step - loss: 0.0111 - accuracy: 1.0000 - val_loss: 2.2183 - val_accuracy: 0.5714\n",
      "Epoch 25/80\n",
      "23/23 [==============================] - 4s 184ms/step - loss: 0.0075 - accuracy: 1.0000 - val_loss: 2.3233 - val_accuracy: 0.5595\n",
      "Epoch 26/80\n",
      "23/23 [==============================] - 4s 183ms/step - loss: 0.0062 - accuracy: 1.0000 - val_loss: 2.3552 - val_accuracy: 0.5714\n",
      "Epoch 27/80\n",
      "23/23 [==============================] - 4s 185ms/step - loss: 0.0059 - accuracy: 1.0000 - val_loss: 2.4567 - val_accuracy: 0.5714\n",
      "Epoch 28/80\n",
      "23/23 [==============================] - 4s 186ms/step - loss: 0.0047 - accuracy: 1.0000 - val_loss: 2.4488 - val_accuracy: 0.5595\n",
      "Epoch 29/80\n",
      "23/23 [==============================] - 4s 187ms/step - loss: 0.0041 - accuracy: 1.0000 - val_loss: 2.5685 - val_accuracy: 0.5714\n",
      "Epoch 30/80\n",
      "23/23 [==============================] - 5s 197ms/step - loss: 0.0037 - accuracy: 1.0000 - val_loss: 2.5934 - val_accuracy: 0.5714\n",
      "Epoch 31/80\n",
      "23/23 [==============================] - 4s 190ms/step - loss: 0.0034 - accuracy: 1.0000 - val_loss: 2.6410 - val_accuracy: 0.5714\n",
      "Epoch 32/80\n",
      "23/23 [==============================] - 4s 189ms/step - loss: 0.0029 - accuracy: 1.0000 - val_loss: 2.6735 - val_accuracy: 0.5714\n",
      "Epoch 33/80\n",
      "23/23 [==============================] - 4s 188ms/step - loss: 0.0027 - accuracy: 1.0000 - val_loss: 2.6622 - val_accuracy: 0.5476\n",
      "Epoch 34/80\n",
      "23/23 [==============================] - 5s 196ms/step - loss: 0.0024 - accuracy: 1.0000 - val_loss: 2.7393 - val_accuracy: 0.5714\n",
      "Epoch 35/80\n",
      "23/23 [==============================] - 4s 186ms/step - loss: 0.0022 - accuracy: 1.0000 - val_loss: 2.8484 - val_accuracy: 0.5714\n",
      "Epoch 36/80\n",
      "23/23 [==============================] - 4s 189ms/step - loss: 0.0020 - accuracy: 1.0000 - val_loss: 2.8186 - val_accuracy: 0.5714\n",
      "Epoch 37/80\n",
      "23/23 [==============================] - 5s 197ms/step - loss: 0.0018 - accuracy: 1.0000 - val_loss: 2.8459 - val_accuracy: 0.5714\n",
      "Epoch 38/80\n",
      "23/23 [==============================] - 5s 218ms/step - loss: 0.0017 - accuracy: 1.0000 - val_loss: 2.8642 - val_accuracy: 0.5595\n",
      "Epoch 39/80\n",
      "23/23 [==============================] - 5s 204ms/step - loss: 0.0015 - accuracy: 1.0000 - val_loss: 2.8853 - val_accuracy: 0.5595\n",
      "Epoch 40/80\n",
      "23/23 [==============================] - 4s 194ms/step - loss: 0.0014 - accuracy: 1.0000 - val_loss: 2.9808 - val_accuracy: 0.5714\n",
      "Epoch 41/80\n",
      "23/23 [==============================] - 4s 193ms/step - loss: 0.0014 - accuracy: 1.0000 - val_loss: 2.9919 - val_accuracy: 0.5595\n",
      "Epoch 42/80\n",
      "23/23 [==============================] - 4s 195ms/step - loss: 0.0012 - accuracy: 1.0000 - val_loss: 2.9882 - val_accuracy: 0.5714\n",
      "Epoch 43/80\n",
      "23/23 [==============================] - 4s 195ms/step - loss: 0.0012 - accuracy: 1.0000 - val_loss: 3.0283 - val_accuracy: 0.5595\n",
      "Epoch 44/80\n",
      "23/23 [==============================] - 5s 196ms/step - loss: 0.0011 - accuracy: 1.0000 - val_loss: 3.0510 - val_accuracy: 0.5714\n",
      "Epoch 45/80\n",
      "23/23 [==============================] - 5s 199ms/step - loss: 0.0010 - accuracy: 1.0000 - val_loss: 3.1073 - val_accuracy: 0.5714\n",
      "Epoch 46/80\n",
      "23/23 [==============================] - 4s 193ms/step - loss: 9.8475e-04 - accuracy: 1.0000 - val_loss: 3.1152 - val_accuracy: 0.5595\n",
      "Epoch 47/80\n",
      "23/23 [==============================] - 5s 197ms/step - loss: 9.0666e-04 - accuracy: 1.0000 - val_loss: 3.1379 - val_accuracy: 0.5595\n",
      "Epoch 48/80\n",
      "23/23 [==============================] - 5s 199ms/step - loss: 8.6761e-04 - accuracy: 1.0000 - val_loss: 3.1374 - val_accuracy: 0.5476\n",
      "Epoch 49/80\n",
      "23/23 [==============================] - 5s 218ms/step - loss: 8.1003e-04 - accuracy: 1.0000 - val_loss: 3.1951 - val_accuracy: 0.5595\n",
      "Epoch 50/80\n",
      "23/23 [==============================] - 6s 271ms/step - loss: 7.6250e-04 - accuracy: 1.0000 - val_loss: 3.1949 - val_accuracy: 0.5476\n",
      "Epoch 51/80\n",
      "23/23 [==============================] - 5s 226ms/step - loss: 7.2463e-04 - accuracy: 1.0000 - val_loss: 3.1954 - val_accuracy: 0.5476\n",
      "Epoch 52/80\n",
      "23/23 [==============================] - 5s 198ms/step - loss: 6.8323e-04 - accuracy: 1.0000 - val_loss: 3.2609 - val_accuracy: 0.5476\n",
      "Epoch 53/80\n",
      "23/23 [==============================] - 5s 200ms/step - loss: 6.6418e-04 - accuracy: 1.0000 - val_loss: 3.2553 - val_accuracy: 0.5476\n",
      "Epoch 54/80\n",
      "23/23 [==============================] - 4s 194ms/step - loss: 6.2588e-04 - accuracy: 1.0000 - val_loss: 3.2995 - val_accuracy: 0.5476\n",
      "Epoch 55/80\n",
      "23/23 [==============================] - 5s 200ms/step - loss: 5.9037e-04 - accuracy: 1.0000 - val_loss: 3.3150 - val_accuracy: 0.5357\n",
      "Epoch 56/80\n",
      "23/23 [==============================] - 5s 198ms/step - loss: 5.6583e-04 - accuracy: 1.0000 - val_loss: 3.3157 - val_accuracy: 0.5476\n",
      "Epoch 57/80\n",
      "23/23 [==============================] - 5s 205ms/step - loss: 5.4807e-04 - accuracy: 1.0000 - val_loss: 3.3258 - val_accuracy: 0.5476\n",
      "Epoch 58/80\n"
     ]
    },
    {
     "name": "stdout",
     "output_type": "stream",
     "text": [
      "23/23 [==============================] - 5s 207ms/step - loss: 5.2570e-04 - accuracy: 1.0000 - val_loss: 3.3917 - val_accuracy: 0.5595\n",
      "Epoch 59/80\n",
      "23/23 [==============================] - 5s 209ms/step - loss: 4.9819e-04 - accuracy: 1.0000 - val_loss: 3.3989 - val_accuracy: 0.5357\n",
      "Epoch 60/80\n",
      "23/23 [==============================] - 6s 256ms/step - loss: 4.7244e-04 - accuracy: 1.0000 - val_loss: 3.4003 - val_accuracy: 0.5357\n",
      "Epoch 61/80\n",
      "23/23 [==============================] - 6s 249ms/step - loss: 4.5318e-04 - accuracy: 1.0000 - val_loss: 3.4531 - val_accuracy: 0.5476\n",
      "Epoch 62/80\n",
      "23/23 [==============================] - 5s 239ms/step - loss: 4.3688e-04 - accuracy: 1.0000 - val_loss: 3.4505 - val_accuracy: 0.5357\n",
      "Epoch 63/80\n",
      "23/23 [==============================] - 5s 208ms/step - loss: 4.1638e-04 - accuracy: 1.0000 - val_loss: 3.4390 - val_accuracy: 0.5357\n",
      "Epoch 64/80\n",
      "23/23 [==============================] - 5s 199ms/step - loss: 3.9666e-04 - accuracy: 1.0000 - val_loss: 3.4784 - val_accuracy: 0.5357\n",
      "Epoch 65/80\n",
      "23/23 [==============================] - 5s 224ms/step - loss: 3.8278e-04 - accuracy: 1.0000 - val_loss: 3.4821 - val_accuracy: 0.5357\n",
      "Epoch 66/80\n",
      "23/23 [==============================] - 5s 203ms/step - loss: 3.7449e-04 - accuracy: 1.0000 - val_loss: 3.5113 - val_accuracy: 0.5357\n",
      "Epoch 67/80\n",
      "23/23 [==============================] - 5s 196ms/step - loss: 3.5923e-04 - accuracy: 1.0000 - val_loss: 3.5196 - val_accuracy: 0.5357\n",
      "Epoch 68/80\n",
      "23/23 [==============================] - 5s 206ms/step - loss: 3.4170e-04 - accuracy: 1.0000 - val_loss: 3.5323 - val_accuracy: 0.5357\n",
      "Epoch 69/80\n",
      "23/23 [==============================] - 5s 197ms/step - loss: 3.2891e-04 - accuracy: 1.0000 - val_loss: 3.5494 - val_accuracy: 0.5357\n",
      "Epoch 70/80\n",
      "23/23 [==============================] - 5s 216ms/step - loss: 3.1531e-04 - accuracy: 1.0000 - val_loss: 3.5803 - val_accuracy: 0.5357\n",
      "Epoch 71/80\n",
      "23/23 [==============================] - 5s 224ms/step - loss: 3.0998e-04 - accuracy: 1.0000 - val_loss: 3.5813 - val_accuracy: 0.5595\n",
      "Epoch 72/80\n",
      "23/23 [==============================] - 5s 205ms/step - loss: 2.9708e-04 - accuracy: 1.0000 - val_loss: 3.6126 - val_accuracy: 0.5357\n",
      "Epoch 73/80\n",
      "23/23 [==============================] - 5s 204ms/step - loss: 2.8542e-04 - accuracy: 1.0000 - val_loss: 3.6355 - val_accuracy: 0.5357\n",
      "Epoch 74/80\n",
      "23/23 [==============================] - 5s 197ms/step - loss: 2.7441e-04 - accuracy: 1.0000 - val_loss: 3.6408 - val_accuracy: 0.5357\n",
      "Epoch 75/80\n",
      "23/23 [==============================] - 5s 199ms/step - loss: 2.6475e-04 - accuracy: 1.0000 - val_loss: 3.6461 - val_accuracy: 0.5357\n",
      "Epoch 76/80\n",
      "23/23 [==============================] - 4s 195ms/step - loss: 2.5634e-04 - accuracy: 1.0000 - val_loss: 3.6662 - val_accuracy: 0.5357\n",
      "Epoch 77/80\n",
      "23/23 [==============================] - 5s 196ms/step - loss: 2.4689e-04 - accuracy: 1.0000 - val_loss: 3.6849 - val_accuracy: 0.5357\n",
      "Epoch 78/80\n",
      "23/23 [==============================] - 5s 205ms/step - loss: 2.4141e-04 - accuracy: 1.0000 - val_loss: 3.7086 - val_accuracy: 0.5357\n",
      "Epoch 79/80\n",
      "23/23 [==============================] - 5s 214ms/step - loss: 2.3075e-04 - accuracy: 1.0000 - val_loss: 3.7104 - val_accuracy: 0.5476\n",
      "Epoch 80/80\n",
      "23/23 [==============================] - 5s 197ms/step - loss: 2.2485e-04 - accuracy: 1.0000 - val_loss: 3.7184 - val_accuracy: 0.5476\n"
     ]
    }
   ],
   "source": [
    "history = model.fit_generator(train_generator,\n",
    "                             epochs = 80,\n",
    "                            \n",
    "                             validation_data = valid_generator,\n",
    "                    )"
   ]
  },
  {
   "cell_type": "code",
   "execution_count": null,
   "metadata": {},
   "outputs": [],
   "source": []
  },
  {
   "cell_type": "code",
   "execution_count": null,
   "metadata": {},
   "outputs": [],
   "source": []
  }
 ],
 "metadata": {
  "accelerator": "GPU",
  "colab": {
   "name": "model.ipynb",
   "provenance": []
  },
  "kernelspec": {
   "display_name": "Python 3",
   "language": "python",
   "name": "python3"
  },
  "language_info": {
   "codemirror_mode": {
    "name": "ipython",
    "version": 3
   },
   "file_extension": ".py",
   "mimetype": "text/x-python",
   "name": "python",
   "nbconvert_exporter": "python",
   "pygments_lexer": "ipython3",
   "version": "3.8.5"
  }
 },
 "nbformat": 4,
 "nbformat_minor": 1
}
