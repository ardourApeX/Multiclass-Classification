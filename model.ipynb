{
  "nbformat": 4,
  "nbformat_minor": 0,
  "metadata": {
    "colab": {
      "name": "model.ipynb",
      "provenance": [],
      "mount_file_id": "12Mnkdy2FXi6FKcBzH-sOabFi86WyelmV",
      "authorship_tag": "ABX9TyMDPbRaiUqp3Vw9DBg4i1AP",
      "include_colab_link": true
    },
    "kernelspec": {
      "name": "python3",
      "display_name": "Python 3"
    },
    "accelerator": "GPU"
  },
  "cells": [
    {
      "cell_type": "markdown",
      "metadata": {
        "id": "view-in-github",
        "colab_type": "text"
      },
      "source": [
        "<a href=\"https://colab.research.google.com/github/ardourApeX/Multiclass-Classification/blob/main/model.ipynb\" target=\"_parent\"><img src=\"https://colab.research.google.com/assets/colab-badge.svg\" alt=\"Open In Colab\"/></a>"
      ]
    },
    {
      "cell_type": "code",
      "metadata": {
        "colab": {
          "base_uri": "https://localhost:8080/"
        },
        "id": "_jwu8e7TcvIA",
        "outputId": "c78cde39-1960-4063-ff56-b05489e06914"
      },
      "source": [
        "import os, shutil\r\n",
        "parent_dir = \"/content/drive/MyDrive/dataset\"\r\n",
        "folders = os.listdir(parent_dir + \"/multiclass\") # Path to Training Images\r\n",
        "print(folders)"
      ],
      "execution_count": 1,
      "outputs": [
        {
          "output_type": "stream",
          "text": [
            "['horses', 'humans', 'cats', 'dogs']\n"
          ],
          "name": "stdout"
        }
      ]
    },
    {
      "cell_type": "markdown",
      "metadata": {
        "id": "SUO-QLR4dFXq"
      },
      "source": [
        "## Seperating Training data from Testing data"
      ]
    },
    {
      "cell_type": "code",
      "metadata": {
        "id": "O9Gr7ymMcvB0"
      },
      "source": [
        "classes = [\"dogs\", \"cats\", \"horses\", \"humans\"] # Labels\r\n",
        "\r\n",
        "# First create a validation folder\r\n",
        "if not os.path.isdir(parent_dir + \"/val_images\"):\r\n",
        "  os.mkdir(parent_dir + \"/val_images\")\r\n",
        "\r\n",
        "# Now create a seperate folder for each label\r\n",
        "for label in classes:\r\n",
        "  os.mkdir(parent_dir + \"/val_images/\" + label)\r\n"
      ],
      "execution_count": 2,
      "outputs": []
    },
    {
      "cell_type": "code",
      "metadata": {
        "id": "TmAz8QeFcu-a"
      },
      "source": [
        "for each_class in classes: # Iterate over each class\r\n",
        "  image_path = os.path.join(parent_dir + \"val_images\", each_class)# creating a seperate folder for each class in validation folder\r\n",
        " \r\n",
        "  if not image_path:\r\n",
        "    os.mkdir(image_path)\r\n",
        "\r\n",
        "SPLIT = 0.9 # spliting data into 90:10 \r\n",
        "\r\n",
        "# Load all images from training data and make a split\r\n",
        "for image_folder in os.listdir(parent_dir + \"/multiclass\"):\r\n",
        "  Path = parent_dir + \"/multiclass/\" + image_folder\r\n",
        "\r\n",
        "  images = os.listdir(Path)# Load all the images\r\n",
        "  split_size =  int(SPLIT * len(images))\r\n",
        "  images_to_move = images[split_size :] # Train-Test split\r\n",
        "  #print(len(images_to_move))\r\n",
        "\r\n",
        "  for validation_image in images_to_move:\r\n",
        "    src = os.path.join(Path, validation_image) \r\n",
        "    dest = os.path.join(parent_dir + \"/val_images/\" + image_folder, validation_image)\r\n",
        "    shutil.move(src, dest) # Moving selected images"
      ],
      "execution_count": 3,
      "outputs": []
    },
    {
      "cell_type": "markdown",
      "metadata": {
        "id": "V1XZf1xPsA2B"
      },
      "source": [
        "### ```Now how many images left in training dataset```"
      ]
    },
    {
      "cell_type": "code",
      "metadata": {
        "colab": {
          "base_uri": "https://localhost:8080/"
        },
        "id": "AJs4isPWnmXM",
        "outputId": "220da4f3-995e-47e6-9354-62412648eb62"
      },
      "source": [
        "for folder in folders:\r\n",
        "  Path = parent_dir + \"/multiclass/\" + folder\r\n",
        "  print(folder + \" \" + str(len(os.listdir(Path))))"
      ],
      "execution_count": 4,
      "outputs": [
        {
          "output_type": "stream",
          "text": [
            "horses 162\n",
            "humans 162\n",
            "cats 162\n",
            "dogs 162\n"
          ],
          "name": "stdout"
        }
      ]
    },
    {
      "cell_type": "markdown",
      "metadata": {
        "id": "ycogzgZJsOJo"
      },
      "source": [
        "### ```And what about validation dataset```"
      ]
    },
    {
      "cell_type": "code",
      "metadata": {
        "colab": {
          "base_uri": "https://localhost:8080/"
        },
        "id": "NVJGH6Q5nmPn",
        "outputId": "1b88e673-7880-42f9-daef-5debc34b60e7"
      },
      "source": [
        "validation_folder = os.listdir(parent_dir + \"/val_images/\")\r\n",
        "for folder in validation_folder:\r\n",
        "  Path = parent_dir + \"/val_images/\" + folder\r\n",
        "  print(folder + \" \" + str(len(os.listdir(Path))))"
      ],
      "execution_count": 5,
      "outputs": [
        {
          "output_type": "stream",
          "text": [
            "dogs 19\n",
            "cats 19\n",
            "horses 19\n",
            "humans 19\n"
          ],
          "name": "stdout"
        }
      ]
    }
  ]
}