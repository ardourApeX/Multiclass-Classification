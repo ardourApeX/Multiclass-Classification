{
 "cells": [
  {
   "cell_type": "markdown",
   "metadata": {},
   "source": [
    "# Dataset Preparation"
   ]
  },
  {
   "cell_type": "code",
   "execution_count": 1,
   "metadata": {},
   "outputs": [],
   "source": [
    "import numpy as np\n",
    "import os\n",
    "from pathlib import Path\n",
    "from keras_preprocessing import image"
   ]
  },
  {
   "cell_type": "code",
   "execution_count": 2,
   "metadata": {},
   "outputs": [
    {
     "name": "stdout",
     "output_type": "stream",
     "text": [
      "<class 'pathlib.PosixPath'>\n",
      "images\n"
     ]
    }
   ],
   "source": [
    "path = Path(\"./images\")\n",
    "\n",
    "print(type(path))\n",
    "print(path)\n",
    "\n",
    "dirs = path.glob(\"*\") #Creating a Generator to iterate over each folder"
   ]
  },
  {
   "cell_type": "code",
   "execution_count": 3,
   "metadata": {},
   "outputs": [],
   "source": [
    "#This is to represent different categories/labels in form of numbers\n",
    "\n",
    "label_dict = {\n",
    "    \"cat\" : 0,\n",
    "    \"dog\" : 1,\n",
    "    \"horse\" : 2,\n",
    "    \"human\" : 3\n",
    "}\n"
   ]
  },
  {
   "cell_type": "code",
   "execution_count": 4,
   "metadata": {},
   "outputs": [],
   "source": [
    "# Load all the Images out there\n",
    "image_data = [] # X Matrix\n",
    "    \n",
    "labels = [] # Y Vector\n",
    "\n",
    "for folder in dirs:\n",
    "    \n",
    "    label = str(folder).split(\"/\")[-1][:-1]\n",
    "    # Load all the images i.e. X matrix along with Labels i.e. Y vector\n",
    "    \n",
    "    for image_path in folder.glob(\"*.jpg\"):\n",
    "        \n",
    "        img = image.load_img(image_path, target_size = (32, 32)) # Loading an image using Keras\n",
    "        \n",
    "        # Converting loaded image into a numpy arr ay\n",
    "        img_array = image.img_to_array(img)\n",
    "        \n",
    "        # Prepare X Matrix\n",
    "        image_data.append(img_array)\n",
    "        # Prepare Y Vector\n",
    "        labels.append(label_dict[label]) "
   ]
  },
  {
   "cell_type": "code",
   "execution_count": 5,
   "metadata": {},
   "outputs": [
    {
     "data": {
      "text/plain": [
       "808"
      ]
     },
     "execution_count": 5,
     "metadata": {},
     "output_type": "execute_result"
    }
   ],
   "source": [
    "len(image_data)"
   ]
  },
  {
   "cell_type": "code",
   "execution_count": 6,
   "metadata": {},
   "outputs": [
    {
     "name": "stdout",
     "output_type": "stream",
     "text": [
      "[1, 1, 1, 1, 1, 1, 1, 1, 1, 1, 1, 1, 1, 1, 1, 1, 1, 1, 1, 1, 1, 1, 1, 1, 1, 1, 1, 1, 1, 1, 1, 1, 1, 1, 1, 1, 1, 1, 1, 1, 1, 1, 1, 1, 1, 1, 1, 1, 1, 1, 1, 1, 1, 1, 1, 1, 1, 1, 1, 1, 1, 1, 1, 1, 1, 1, 1, 1, 1, 1, 1, 1, 1, 1, 1, 1, 1, 1, 1, 1, 1, 1, 1, 1, 1, 1, 1, 1, 1, 1, 1, 1, 1, 1, 1, 1, 1, 1, 1, 1, 1, 1, 1, 1, 1, 1, 1, 1, 1, 1, 1, 1, 1, 1, 1, 1, 1, 1, 1, 1, 1, 1, 1, 1, 1, 1, 1, 1, 1, 1, 1, 1, 1, 1, 1, 1, 1, 1, 1, 1, 1, 1, 1, 1, 1, 1, 1, 1, 1, 1, 1, 1, 1, 1, 1, 1, 1, 1, 1, 1, 1, 1, 1, 1, 1, 1, 1, 1, 1, 1, 1, 1, 1, 1, 1, 1, 1, 1, 1, 1, 1, 1, 1, 1, 1, 1, 1, 1, 1, 1, 1, 1, 1, 1, 1, 1, 1, 1, 1, 1, 1, 1, 3, 3, 3, 3, 3, 3, 3, 3, 3, 3, 3, 3, 3, 3, 3, 3, 3, 3, 3, 3, 3, 3, 3, 3, 3, 3, 3, 3, 3, 3, 3, 3, 3, 3, 3, 3, 3, 3, 3, 3, 3, 3, 3, 3, 3, 3, 3, 3, 3, 3, 3, 3, 3, 3, 3, 3, 3, 3, 3, 3, 3, 3, 3, 3, 3, 3, 3, 3, 3, 3, 3, 3, 3, 3, 3, 3, 3, 3, 3, 3, 3, 3, 3, 3, 3, 3, 3, 3, 3, 3, 3, 3, 3, 3, 3, 3, 3, 3, 3, 3, 3, 3, 3, 3, 3, 3, 3, 3, 3, 3, 3, 3, 3, 3, 3, 3, 3, 3, 3, 3, 3, 3, 3, 3, 3, 3, 3, 3, 3, 3, 3, 3, 3, 3, 3, 3, 3, 3, 3, 3, 3, 3, 3, 3, 3, 3, 3, 3, 3, 3, 3, 3, 3, 3, 3, 3, 3, 3, 3, 3, 3, 3, 3, 3, 3, 3, 3, 3, 3, 3, 3, 3, 3, 3, 3, 3, 3, 3, 3, 3, 3, 3, 3, 3, 3, 3, 3, 3, 3, 3, 3, 3, 3, 3, 3, 3, 3, 3, 3, 3, 3, 3, 2, 2, 2, 2, 2, 2, 2, 2, 2, 2, 2, 2, 2, 2, 2, 2, 2, 2, 2, 2, 2, 2, 2, 2, 2, 2, 2, 2, 2, 2, 2, 2, 2, 2, 2, 2, 2, 2, 2, 2, 2, 2, 2, 2, 2, 2, 2, 2, 2, 2, 2, 2, 2, 2, 2, 2, 2, 2, 2, 2, 2, 2, 2, 2, 2, 2, 2, 2, 2, 2, 2, 2, 2, 2, 2, 2, 2, 2, 2, 2, 2, 2, 2, 2, 2, 2, 2, 2, 2, 2, 2, 2, 2, 2, 2, 2, 2, 2, 2, 2, 2, 2, 2, 2, 2, 2, 2, 2, 2, 2, 2, 2, 2, 2, 2, 2, 2, 2, 2, 2, 2, 2, 2, 2, 2, 2, 2, 2, 2, 2, 2, 2, 2, 2, 2, 2, 2, 2, 2, 2, 2, 2, 2, 2, 2, 2, 2, 2, 2, 2, 2, 2, 2, 2, 2, 2, 2, 2, 2, 2, 2, 2, 2, 2, 2, 2, 2, 2, 2, 2, 2, 2, 2, 2, 2, 2, 2, 2, 2, 2, 2, 2, 2, 2, 2, 2, 2, 2, 2, 2, 2, 2, 2, 2, 2, 2, 2, 2, 2, 2, 2, 2, 0, 0, 0, 0, 0, 0, 0, 0, 0, 0, 0, 0, 0, 0, 0, 0, 0, 0, 0, 0, 0, 0, 0, 0, 0, 0, 0, 0, 0, 0, 0, 0, 0, 0, 0, 0, 0, 0, 0, 0, 0, 0, 0, 0, 0, 0, 0, 0, 0, 0, 0, 0, 0, 0, 0, 0, 0, 0, 0, 0, 0, 0, 0, 0, 0, 0, 0, 0, 0, 0, 0, 0, 0, 0, 0, 0, 0, 0, 0, 0, 0, 0, 0, 0, 0, 0, 0, 0, 0, 0, 0, 0, 0, 0, 0, 0, 0, 0, 0, 0, 0, 0, 0, 0, 0, 0, 0, 0, 0, 0, 0, 0, 0, 0, 0, 0, 0, 0, 0, 0, 0, 0, 0, 0, 0, 0, 0, 0, 0, 0, 0, 0, 0, 0, 0, 0, 0, 0, 0, 0, 0, 0, 0, 0, 0, 0, 0, 0, 0, 0, 0, 0, 0, 0, 0, 0, 0, 0, 0, 0, 0, 0, 0, 0, 0, 0, 0, 0, 0, 0, 0, 0, 0, 0, 0, 0, 0, 0, 0, 0, 0, 0, 0, 0, 0, 0, 0, 0, 0, 0, 0, 0, 0, 0, 0, 0, 0, 0, 0, 0, 0, 0]\n"
     ]
    }
   ],
   "source": [
    "print(labels)"
   ]
  },
  {
   "cell_type": "markdown",
   "metadata": {},
   "source": [
    "### Preparing a Numpy array"
   ]
  },
  {
   "cell_type": "code",
   "execution_count": 7,
   "metadata": {},
   "outputs": [
    {
     "name": "stdout",
     "output_type": "stream",
     "text": [
      "(808, 32, 32, 3) (808,)\n"
     ]
    }
   ],
   "source": [
    "x = np.array(image_data)\n",
    "y = np.array(labels)\n",
    "print(x.shape, y.shape)"
   ]
  },
  {
   "cell_type": "markdown",
   "metadata": {},
   "source": [
    "```x.shape``` signifies that there are ```808``` images each of ```32X32X3``` size"
   ]
  },
  {
   "cell_type": "markdown",
   "metadata": {},
   "source": [
    "### Shuffle the Data "
   ]
  },
  {
   "cell_type": "code",
   "execution_count": 8,
   "metadata": {},
   "outputs": [],
   "source": [
    "import random \n",
    "\n",
    "combined_data = list(zip(x, y))\n",
    "random.shuffle(combined_data)"
   ]
  },
  {
   "cell_type": "code",
   "execution_count": 9,
   "metadata": {},
   "outputs": [],
   "source": [
    "x[:], y[:] = zip(*combined_data)"
   ]
  },
  {
   "cell_type": "markdown",
   "metadata": {},
   "source": [
    "### Have a look at Dataset"
   ]
  },
  {
   "cell_type": "code",
   "execution_count": 10,
   "metadata": {},
   "outputs": [],
   "source": [
    "x = x.astype(\"uint8\")"
   ]
  },
  {
   "cell_type": "code",
   "execution_count": 11,
   "metadata": {
    "scrolled": false
   },
   "outputs": [
    {
     "data": {
      "image/png": "[encoded data removed]",
      "text/plain": [
       "<Figure size 432x288 with 1 Axes>"
      ]
     },
     "metadata": {
      "needs_background": "light"
     },
     "output_type": "display_data"
    },
    {
     "data": {
      "image/png": "[encoded data removed]",
      "text/plain": [
       "<Figure size 432x288 with 1 Axes>"
      ]
     },
     "metadata": {
      "needs_background": "light"
     },
     "output_type": "display_data"
    },
    {
     "data": {
      "image/png": "[encoded data removed]",
      "text/plain": [
       "<Figure size 432x288 with 1 Axes>"
      ]
     },
     "metadata": {
      "needs_background": "light"
     },
     "output_type": "display_data"
    },
    {
     "data": {
      "image/png": "[encoded data removed]",
      "text/plain": [
       "<Figure size 432x288 with 1 Axes>"
      ]
     },
     "metadata": {
      "needs_background": "light"
     },
     "output_type": "display_data"
    },
    {
     "data": {
      "image/png": "[encoded data removed]",
      "text/plain": [
       "<Figure size 432x288 with 1 Axes>"
      ]
     },
     "metadata": {
      "needs_background": "light"
     },
     "output_type": "display_data"
    },
    {
     "data": {
      "image/png": "[encoded data removed]",
      "text/plain": [
       "<Figure size 432x288 with 1 Axes>"
      ]
     },
     "metadata": {
      "needs_background": "light"
     },
     "output_type": "display_data"
    },
    {
     "data": {
      "image/png": "[encoded data removed]",
      "text/plain": [
       "<Figure size 432x288 with 1 Axes>"
      ]
     },
     "metadata": {
      "needs_background": "light"
     },
     "output_type": "display_data"
    },
    {
     "data": {
      "image/png": "[encoded data removed]",
      "text/plain": [
       "<Figure size 432x288 with 1 Axes>"
      ]
     },
     "metadata": {
      "needs_background": "light"
     },
     "output_type": "display_data"
    },
    {
     "data": {
      "image/png": "[encoded data removed]",
      "text/plain": [
       "<Figure size 432x288 with 1 Axes>"
      ]
     },
     "metadata": {
      "needs_background": "light"
     },
     "output_type": "display_data"
    }
   ],
   "source": [
    "import matplotlib.pyplot as plt\n",
    "\n",
    "# will be viusalizing only 9 images \n",
    "for i in range(9):\n",
    "    plt.imshow(x[i])\n",
    "    plt.axis(\"off\")\n",
    "    plt.title(y[i])\n",
    "    plt.show()    "
   ]
  },
  {
   "cell_type": "code",
   "execution_count": 12,
   "metadata": {},
   "outputs": [],
   "source": [
    "class SVM:\n",
    "    \n",
    "    def __init__(self, C = 1.0):\n",
    "        self.C = C\n",
    "        self.W = 0\n",
    "        self.b = 0\n",
    "        \n",
    "        \n",
    "        \n",
    "    \n",
    "    def HingeLoss(self, W, B, X, Y):\n",
    "                \n",
    "        loss = 0.0\n",
    "        loss += 0.5 * np.dot(W, W.T) #First Term\n",
    "        \n",
    "        m = X.shape[0]\n",
    "        \n",
    "        for i in range(m):\n",
    "            \n",
    "            ti = Y[i] * (np.dot(W, X[i].T) + B)\n",
    "            \n",
    "            loss += self.C * max(0, (1 - ti)) # 1 - ti is for outliers\n",
    "        \n",
    "        return loss\n",
    "    \n",
    "    \n",
    "    \n",
    "    \n",
    "    def fit(self, X, Y, batch_size = 100, Lr = 0.001, MaxItr = 20):\n",
    "        \n",
    "        #Initialization\n",
    "        features = X.shape[1]\n",
    "        samples  = X.shape[0]\n",
    "        c = self.C        \n",
    "        W = np.zeros((1, features))\n",
    "        bias = 0     \n",
    "        losses = []\n",
    "        \n",
    "        \n",
    "        for i in range(MaxItr):\n",
    "            \n",
    "            losses.append(*self.HingeLoss(W, bias, X, Y)[0]) # Loss gets recorded   \n",
    "            \n",
    "            random_ids = np.arange(samples)\n",
    "            np.random.shuffle(random_ids)\n",
    "            \n",
    "            for batch_start in range(0, samples, batch_size):\n",
    "                \n",
    "               \n",
    "                Gradient_W = 0.0 # Used to compute gradient term only\n",
    "                Gradient_B = 0.0 # That is why it gets initialized by 0 everytime\n",
    "                \n",
    "                for j in range(batch_start, batch_start + batch_size):\n",
    "                    \n",
    "                    if j < samples:\n",
    "                \n",
    "                        # Dealing with Random Data\n",
    "                        i = random_ids[j]\n",
    "\n",
    "                        ti = Y[i] * (np.dot(W, X[i]) + bias)\n",
    "                        \n",
    "                        if ti > 1:\n",
    "                            \"All Good\"\n",
    "                            Gradient_W += 0\n",
    "                            Gradient_B += 0\n",
    "                       \n",
    "                        else:\n",
    "                            \n",
    "                            Gradient_W += c*Y[i]*X[i]\n",
    "                            Gradient_B += c*Y[i]\n",
    "\n",
    "                # Gradient is computed. Now it is needed to update the W and B\n",
    "                W = W - Lr * W + Lr * Gradient_W\n",
    "                bias = bias + Lr * Gradient_B\n",
    "            \n",
    "        self.W = W \n",
    "        self.b = bias\n",
    "        \n",
    "        return W, bias, list(losses)"
   ]
  },
  {
   "cell_type": "markdown",
   "metadata": {},
   "source": [
    "## We need to convert Data for One-to-One Classification"
   ]
  },
  {
   "cell_type": "code",
   "execution_count": 13,
   "metadata": {},
   "outputs": [
    {
     "data": {
      "text/plain": [
       "(808, 32, 32, 3)"
      ]
     },
     "execution_count": 13,
     "metadata": {},
     "output_type": "execute_result"
    }
   ],
   "source": [
    "x.shape"
   ]
  },
  {
   "cell_type": "code",
   "execution_count": 14,
   "metadata": {},
   "outputs": [
    {
     "name": "stdout",
     "output_type": "stream",
     "text": [
      "(808, 3072)\n"
     ]
    }
   ],
   "source": [
    "# We will flatten each image\n",
    "\n",
    "x = x.reshape((808, -1))\n",
    "print(x.shape)"
   ]
  },
  {
   "cell_type": "code",
   "execution_count": 15,
   "metadata": {},
   "outputs": [
    {
     "data": {
      "text/plain": [
       "4"
      ]
     },
     "execution_count": 15,
     "metadata": {},
     "output_type": "execute_result"
    }
   ],
   "source": [
    "classes = len(np.unique(labels))\n",
    "classes"
   ]
  },
  {
   "cell_type": "code",
   "execution_count": 16,
   "metadata": {},
   "outputs": [],
   "source": [
    "def ClassWiseData(x, y):\n",
    "    \n",
    "    data = {} # It will contain key as classes and values as numpy array\n",
    "    \n",
    "    for i in range(classes):        \n",
    "        data[i] = [] # Creating an empty list to further store images\n",
    "    \n",
    "    \n",
    "    for i in range(x.shape[0]): # Iterating over all the data points\n",
    "        data[y[i]].append(x[i])\n",
    "        \n",
    "        \n",
    "    for i in data.keys():\n",
    "        data[i] = np.array(data[i])\n",
    "        \n",
    "    return data"
   ]
  },
  {
   "cell_type": "code",
   "execution_count": 17,
   "metadata": {},
   "outputs": [],
   "source": [
    "data = ClassWiseData(x, y)"
   ]
  },
  {
   "cell_type": "code",
   "execution_count": 18,
   "metadata": {},
   "outputs": [
    {
     "name": "stdout",
     "output_type": "stream",
     "text": [
      "(202, 3072)\n",
      "(202, 3072)\n",
      "(202, 3072)\n",
      "(202, 3072)\n"
     ]
    }
   ],
   "source": [
    "print(data[0].shape)\n",
    "print(data[1].shape)\n",
    "print(data[2].shape)\n",
    "print(data[3].shape)"
   ]
  },
  {
   "cell_type": "markdown",
   "metadata": {},
   "source": [
    "##  Creating Data Pairs"
   ]
  },
  {
   "cell_type": "code",
   "execution_count": 19,
   "metadata": {},
   "outputs": [],
   "source": [
    "def CreateDataPairs(d1, d2):\n",
    "    \n",
    "    l1, l2 = d1.shape[0], d2.shape[0]\n",
    "    \n",
    "    samples = l1 + l2\n",
    "    features = d1.shape[1]\n",
    "    \n",
    "    data_pair = np.zeros((samples, features))\n",
    "    data_labels = np.zeros((samples, ))\n",
    "    \n",
    "    data_pair[:l1, :] = d1\n",
    "    data_pair[l1:, :] = d2\n",
    "    \n",
    "    data_labels[:l1] = -1\n",
    "    data_labels[:l2] = 1\n",
    "    \n",
    "    return data_pair, data_labels\n",
    "    \n",
    "    "
   ]
  },
  {
   "cell_type": "code",
   "execution_count": 20,
   "metadata": {},
   "outputs": [],
   "source": [
    "mySVM = SVM()"
   ]
  },
  {
   "cell_type": "markdown",
   "metadata": {},
   "source": [
    "## Training NC2 SVM's Part!"
   ]
  },
  {
   "cell_type": "code",
   "execution_count": 21,
   "metadata": {},
   "outputs": [],
   "source": [
    "def trainSVM(x, y):\n",
    "    \n",
    "    svm_classifier = {}\n",
    "    \n",
    "    for i in range(classes):\n",
    "        \n",
    "        svm_classifier[i] = {}\n",
    "        \n",
    "        for j in range(i + 1, classes):\n",
    "            xpair, ypair = CreateDataPairs(data[i], data[j])\n",
    "            weight, bias, _ = mySVM.fit(xpair, ypair)\n",
    "            \n",
    "            svm_classifier[i][j] = (weight, bias)\n",
    "            \n",
    "    return svm_classifier"
   ]
  },
  {
   "cell_type": "code",
   "execution_count": 22,
   "metadata": {},
   "outputs": [],
   "source": [
    "svm_classifier = trainSVM(x, y)"
   ]
  },
  {
   "cell_type": "code",
   "execution_count": 23,
   "metadata": {},
   "outputs": [
    {
     "data": {
      "text/plain": [
       "{0: {1: (array([[5.13349539, 4.71506298, 4.46237328, ..., 5.37350531, 5.17334609,\n",
       "           4.88352278]]),\n",
       "   0.043000000000000003),\n",
       "  2: (array([[4.38086048, 4.10190554, 3.83925316, ..., 5.10632445, 4.40259722,\n",
       "           4.01495855]]),\n",
       "   0.047),\n",
       "  3: (array([[4.36093512, 4.09375426, 3.79849676, ..., 5.62347792, 5.43056428,\n",
       "           5.0030749 ]]),\n",
       "   0.048)},\n",
       " 1: {2: (array([[5.96402031, 5.89971576, 5.61804373, ..., 5.8408454 , 5.65517734,\n",
       "           4.86178603]]),\n",
       "   0.045),\n",
       "  3: (array([[6.66412474, 6.48117378, 5.93866077, ..., 6.30093991, 5.91058414,\n",
       "           5.13892957]]),\n",
       "   0.048)},\n",
       " 2: {3: (array([[6.79635663, 6.9765905 , 6.94941956, ..., 5.97036019, 5.57366454,\n",
       "           3.77585432]]),\n",
       "   0.048)},\n",
       " 3: {}}"
      ]
     },
     "execution_count": 23,
     "metadata": {},
     "output_type": "execute_result"
    }
   ],
   "source": [
    "svm_classifier"
   ]
  },
  {
   "cell_type": "code",
   "execution_count": null,
   "metadata": {},
   "outputs": [],
   "source": []
  }
 ],
 "metadata": {
  "kernelspec": {
   "display_name": "Python 3",
   "language": "python",
   "name": "python3"
  },
  "language_info": {
   "codemirror_mode": {
    "name": "ipython",
    "version": 3
   },
   "file_extension": ".py",
   "mimetype": "text/x-python",
   "name": "python",
   "nbconvert_exporter": "python",
   "pygments_lexer": "ipython3",
   "version": "3.8.3"
  }
 },
 "nbformat": 4,
 "nbformat_minor": 4
}
